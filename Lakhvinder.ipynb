{
  "cells": [
    {
      "cell_type": "code",
      "execution_count": 2,
      "metadata": {
        "colab": {
          "base_uri": "https://localhost:8080/"
        },
        "id": "pub9cOro5dz7",
        "outputId": "de59a4f5-b2d1-4a8e-e7da-a1372e0e47ec"
      },
      "outputs": [
        {
          "name": "stdout",
          "output_type": "stream",
          "text": [
            "Collecting mrjob\n",
            "  Downloading mrjob-0.7.4-py2.py3-none-any.whl.metadata (7.3 kB)\n",
            "Requirement already satisfied: PyYAML>=3.10 in /usr/local/lib/python3.11/dist-packages (from mrjob) (6.0.2)\n",
            "Downloading mrjob-0.7.4-py2.py3-none-any.whl (439 kB)\n",
            "\u001b[?25l   \u001b[90m━━━━━━━━━━━━━━━━━━━━━━━━━━━━━━━━━━━━━━━━\u001b[0m \u001b[32m0.0/439.6 kB\u001b[0m \u001b[31m?\u001b[0m eta \u001b[36m-:--:--\u001b[0m\r\u001b[2K   \u001b[90m━━━━━━━━━━━━━━━━━━━━━━━━━━━━━━━━━━━━━━━━\u001b[0m \u001b[32m439.6/439.6 kB\u001b[0m \u001b[31m21.7 MB/s\u001b[0m eta \u001b[36m0:00:00\u001b[0m\n",
            "\u001b[?25hInstalling collected packages: mrjob\n",
            "Successfully installed mrjob-0.7.4\n"
          ]
        }
      ],
      "source": [
        "! pip install mrjob"
      ]
    },
    {
      "cell_type": "code",
      "execution_count": 13,
      "metadata": {
        "colab": {
          "base_uri": "https://localhost:8080/"
        },
        "id": "-jaoyHRB-Szp",
        "outputId": "555326a2-c879-47a5-a8f1-ea6ebf7ca9be"
      },
      "outputs": [
        {
          "name": "stderr",
          "output_type": "stream",
          "text": [
            "[nltk_data] Downloading package punkt to /root/nltk_data...\n",
            "[nltk_data]   Package punkt is already up-to-date!\n",
            "[nltk_data] Downloading package stopwords to /root/nltk_data...\n",
            "[nltk_data]   Package stopwords is already up-to-date!\n",
            "Mapping Data: 701528it [00:09, 71613.42it/s] \n"
          ]
        },
        {
          "name": "stdout",
          "output_type": "stream",
          "text": [
            "\n",
            "Top 20 most common words:\n",
            "[('ANOMALY: Missing/short description', 701528)]\n",
            "\n",
            "Total anomalies detected: 701528\n"
          ]
        }
      ],
      "source": [
        "import json\n",
        "import re\n",
        "import string\n",
        "import nltk\n",
        "from collections import defaultdict\n",
        "from nltk.tokenize import word_tokenize\n",
        "from nltk.corpus import stopwords\n",
        "from tqdm import tqdm\n",
        "\n",
        "# Download required NLTK datasets\n",
        "nltk.download('punkt')\n",
        "nltk.download('stopwords')"
      ]
    },
    {
      "cell_type": "code",
      "execution_count": 17,
      "metadata": {
        "colab": {
          "base_uri": "https://localhost:8080/"
        },
        "id": "zBGFCaoI_MTi",
        "outputId": "88245e73-4f3d-4cd4-b41b-c50d7b4e932e"
      },
      "outputs": [
        {
          "name": "stdout",
          "output_type": "stream",
          "text": [
            "{'rating': 5.0, 'title': 'Such a lovely scent but not overpowering.', 'text': \"This spray is really nice. It smells really good, goes on really fine, and does the trick. I will say it feels like you need a lot of it though to get the texture I want. I have a lot of hair, medium thickness. I am comparing to other brands with yucky chemicals so I'm gonna stick with this. Try it!\", 'images': [], 'asin': 'B00YQ6X8EO', 'parent_asin': 'B00YQ6X8EO', 'user_id': 'AGKHLEW2SOWHNMFQIJGBECAF7INQ', 'timestamp': 1588687728923, 'helpful_vote': 0, 'verified_purchase': True}\n",
            "{'rating': 4.0, 'title': 'Works great but smells a little weird.', 'text': 'This product does what I need it to do, I just wish it was odorless or had a soft coconut smell. Having my head smell like an orange coffee is offputting. (granted, I did know the smell was described but I was hoping it would be light)', 'images': [], 'asin': 'B081TJ8YS3', 'parent_asin': 'B081TJ8YS3', 'user_id': 'AGKHLEW2SOWHNMFQIJGBECAF7INQ', 'timestamp': 1588615855070, 'helpful_vote': 1, 'verified_purchase': True}\n",
            "{'rating': 5.0, 'title': 'Yes!', 'text': 'Smells good, feels great!', 'images': [], 'asin': 'B07PNNCSP9', 'parent_asin': 'B097R46CSY', 'user_id': 'AE74DYR3QUGVPZJ3P7RFWBGIX7XQ', 'timestamp': 1589665266052, 'helpful_vote': 2, 'verified_purchase': True}\n",
            "{'rating': 1.0, 'title': 'Synthetic feeling', 'text': 'Felt synthetic', 'images': [], 'asin': 'B09JS339BZ', 'parent_asin': 'B09JS339BZ', 'user_id': 'AFQLNQNQYFWQZPJQZS6V3NZU4QBQ', 'timestamp': 1643393630220, 'helpful_vote': 0, 'verified_purchase': True}\n",
            "{'rating': 5.0, 'title': 'A+', 'text': 'Love it', 'images': [], 'asin': 'B08BZ63GMJ', 'parent_asin': 'B08BZ63GMJ', 'user_id': 'AFQLNQNQYFWQZPJQZS6V3NZU4QBQ', 'timestamp': 1609322563534, 'helpful_vote': 0, 'verified_purchase': True}\n",
            "{'rating': 4.0, 'title': 'Pretty Color', 'text': 'The polish was quiet thick and did not apply smoothly. I let dry overnight before adding a second coat since it was so thick.', 'images': [{'small_image_url': 'https://images-na.ssl-images-amazon.com/images/I/71e9Noi7dJL._SL256_.jpg', 'medium_image_url': 'https://images-na.ssl-images-amazon.com/images/I/71e9Noi7dJL._SL800_.jpg', 'large_image_url': 'https://images-na.ssl-images-amazon.com/images/I/71e9Noi7dJL._SL1600_.jpg', 'attachment_type': 'IMAGE'}], 'asin': 'B00R8DXL44', 'parent_asin': 'B00R8DXL44', 'user_id': 'AGMJ3EMDVL6OWBJF7CA5RGJLXN5A', 'timestamp': 1598567408138, 'helpful_vote': 0, 'verified_purchase': True}\n"
          ]
        }
      ],
      "source": [
        "file_path = \"All_Beauty.jsonl\"\n",
        "\n",
        "with open(file_path, \"r\", encoding=\"utf-8\") as file:\n",
        "    for i, line in enumerate(file):\n",
        "        print(json.loads(line))  # Print first few records\n",
        "        if i == 5:  # Limit to 5 samples\n",
        "            break"
      ]
    },
    {
      "cell_type": "code",
      "execution_count": 20,
      "metadata": {
        "colab": {
          "base_uri": "https://localhost:8080/"
        },
        "id": "0dPTXPbJAF1U",
        "outputId": "420bb0eb-2450-40cd-c845-af33e243a7af"
      },
      "outputs": [
        {
          "name": "stdout",
          "output_type": "stream",
          "text": [
            "\n",
            "Top 20 Most Common Words:\n",
            "the: 911302\n",
            "i: 832268\n",
            "and: 689280\n",
            "it: 572492\n",
            "a: 529557\n",
            "to: 523432\n",
            "my: 376638\n",
            "this: 365748\n",
            "is: 328617\n",
            "for: 313854\n",
            "of: 265967\n",
            "but: 204610\n",
            "in: 202609\n",
            "not: 198599\n",
            "was: 178231\n",
            "on: 177977\n",
            "with: 169787\n",
            "have: 166232\n",
            "that: 164070\n",
            "so: 159374\n",
            "\n",
            "Detected Anomalies:\n",
            "ANOMALY: Missing/Short Review: 7459\n",
            "\n",
            "Total Unique Words: 325265\n",
            "Total Words Processed: 22968795\n",
            "Total Anomalies Detected: 7459\n"
          ]
        }
      ],
      "source": [
        "import json\n",
        "from collections import Counter\n",
        "from mrjob.job import MRJob\n",
        "\n",
        "class ReviewWordCount(MRJob):\n",
        "    def mapper(self, _, line):\n",
        "        try:\n",
        "            data = json.loads(line)  # Parse JSON line\n",
        "            review_text = data.get(\"text\", \"\").strip()\n",
        "\n",
        "            if not review_text or len(review_text) < 5:\n",
        "                yield (\"ANOMALY: Missing/Short Review\", 1)\n",
        "            else:\n",
        "                words = review_text.lower().split()\n",
        "                for word in words:\n",
        "                    yield (word, 1)\n",
        "        except json.JSONDecodeError:\n",
        "            yield (\"ANOMALY: Invalid JSON\", 1)\n",
        "\n",
        "    def reducer(self, key, values):\n",
        "        yield (key, sum(values))\n",
        "\n",
        "# Run the MRJob inside the notebook\n",
        "word_counts = Counter()\n",
        "anomalies = Counter()\n",
        "\n",
        "mr_job = ReviewWordCount(args=[])\n",
        "with open(\"All_Beauty.jsonl\", \"r\") as f:\n",
        "    for line in f:\n",
        "        for key, count in mr_job.mapper(None, line):\n",
        "            if \"ANOMALY\" in key:\n",
        "                anomalies[key] += count\n",
        "            else:\n",
        "                word_counts[key] += count\n",
        "\n",
        "# Display Top 20 most common words\n",
        "print(\"\\nTop 20 Most Common Words:\")\n",
        "for word, count in word_counts.most_common(20):\n",
        "    print(f\"{word}: {count}\")\n",
        "\n",
        "# Display Anomalies\n",
        "print(\"\\nDetected Anomalies:\")\n",
        "for anomaly, count in anomalies.items():\n",
        "    print(f\"{anomaly}: {count}\")\n",
        "\n",
        "# Display Total Word Count\n",
        "print(f\"\\nTotal Unique Words: {len(word_counts)}\")\n",
        "print(f\"Total Words Processed: {sum(word_counts.values())}\")\n",
        "print(f\"Total Anomalies Detected: {sum(anomalies.values())}\")\n"
      ]
    },
    {
      "cell_type": "code",
      "execution_count": null,
      "metadata": {
        "id": "bXI_EB_OAZp5"
      },
      "outputs": [],
      "source": []
    },
    {
      "cell_type": "code",
      "execution_count": 21,
      "metadata": {
        "colab": {
          "base_uri": "https://localhost:8080/"
        },
        "id": "gFY9LIXvBCsD",
        "outputId": "24884f7f-128b-4ddf-ff4f-b679ce2d503b"
      },
      "outputs": [
        {
          "name": "stdout",
          "output_type": "stream",
          "text": [
            "root\n",
            " |-- asin: string (nullable = true)\n",
            " |-- helpful_vote: long (nullable = true)\n",
            " |-- images: array (nullable = true)\n",
            " |    |-- element: struct (containsNull = true)\n",
            " |    |    |-- attachment_type: string (nullable = true)\n",
            " |    |    |-- large_image_url: string (nullable = true)\n",
            " |    |    |-- medium_image_url: string (nullable = true)\n",
            " |    |    |-- small_image_url: string (nullable = true)\n",
            " |-- parent_asin: string (nullable = true)\n",
            " |-- rating: double (nullable = true)\n",
            " |-- text: string (nullable = true)\n",
            " |-- timestamp: long (nullable = true)\n",
            " |-- title: string (nullable = true)\n",
            " |-- user_id: string (nullable = true)\n",
            " |-- verified_purchase: boolean (nullable = true)\n",
            "\n",
            "+----------+------------+------+-----------+------+--------------------+-------------+--------------------+--------------------+-----------------+\n",
            "|      asin|helpful_vote|images|parent_asin|rating|                text|    timestamp|               title|             user_id|verified_purchase|\n",
            "+----------+------------+------+-----------+------+--------------------+-------------+--------------------+--------------------+-----------------+\n",
            "|B00YQ6X8EO|           0|    []| B00YQ6X8EO|   5.0|This spray is rea...|1588687728923|Such a lovely sce...|AGKHLEW2SOWHNMFQI...|             true|\n",
            "|B081TJ8YS3|           1|    []| B081TJ8YS3|   4.0|This product does...|1588615855070|Works great but s...|AGKHLEW2SOWHNMFQI...|             true|\n",
            "|B07PNNCSP9|           2|    []| B097R46CSY|   5.0|Smells good, feel...|1589665266052|                Yes!|AE74DYR3QUGVPZJ3P...|             true|\n",
            "|B09JS339BZ|           0|    []| B09JS339BZ|   1.0|      Felt synthetic|1643393630220|   Synthetic feeling|AFQLNQNQYFWQZPJQZ...|             true|\n",
            "|B08BZ63GMJ|           0|    []| B08BZ63GMJ|   5.0|             Love it|1609322563534|                  A+|AFQLNQNQYFWQZPJQZ...|             true|\n",
            "+----------+------------+------+-----------+------+--------------------+-------------+--------------------+--------------------+-----------------+\n",
            "only showing top 5 rows\n",
            "\n",
            "+----+------+\n",
            "|word| count|\n",
            "+----+------+\n",
            "| the|911248|\n",
            "|   i|832188|\n",
            "| and|689230|\n",
            "|  it|572459|\n",
            "|   a|529525|\n",
            "|  to|523403|\n",
            "|  my|376623|\n",
            "|this|365724|\n",
            "|  is|328595|\n",
            "| for|313838|\n",
            "|  of|265949|\n",
            "| but|204605|\n",
            "|  in|202597|\n",
            "| not|198597|\n",
            "| was|178227|\n",
            "|  on|177971|\n",
            "|with|169779|\n",
            "|have|166226|\n",
            "|that|164061|\n",
            "|  so|159363|\n",
            "+----+------+\n",
            "only showing top 20 rows\n",
            "\n",
            "+----------+----------+\n",
            "|      asin|avg_rating|\n",
            "+----------+----------+\n",
            "|B01CPVK4S4|       5.0|\n",
            "|B01AE6ARXO|       5.0|\n",
            "|B07JR7G69R|       5.0|\n",
            "|B01IA96JFM|       5.0|\n",
            "|B00021E2DI|       5.0|\n",
            "|B07LGZ8J1X|       5.0|\n",
            "|B06XYJP7J8|       5.0|\n",
            "|B00VUIVWA8|       5.0|\n",
            "|B07CM1FV51|       5.0|\n",
            "|B07P45837Y|       5.0|\n",
            "+----------+----------+\n",
            "only showing top 10 rows\n",
            "\n",
            "+-----------------+------------+\n",
            "|verified_purchase|review_count|\n",
            "+-----------------+------------+\n",
            "|             true|      627809|\n",
            "|            false|       66260|\n",
            "+-----------------+------------+\n",
            "\n",
            "+----------+------+--------------------+-----------------+------------+\n",
            "|      asin|rating|                text|verified_purchase|helpful_vote|\n",
            "+----------+------+--------------------+-----------------+------------+\n",
            "|B01MDTVZTZ|   5.0|I love this produ...|             true|         646|\n",
            "|B000067E30|   4.0|I am a dentist wh...|            false|         607|\n",
            "|B08L5KN7X4|   4.0|So I saw a family...|             true|         594|\n",
            "|B00EEN2HCS|   5.0|The dark brown is...|             true|         552|\n",
            "|B00011JN5G|   5.0|I'm giving this p...|             true|         519|\n",
            "|B07ZJKVVLW|   5.0|Love this brow pe...|             true|         473|\n",
            "|B07ZJKVVLW|   5.0|I’m currently goi...|             true|         467|\n",
            "|B08L5KN7X4|   5.0|I reviewed variou...|             true|         466|\n",
            "|B07YZ6XR2H|   5.0|I purchased this ...|             true|         439|\n",
            "|B07ZJKVVLW|   5.0|Being over 65 my ...|             true|         435|\n",
            "+----------+------+--------------------+-----------------+------------+\n",
            "only showing top 10 rows\n",
            "\n"
          ]
        }
      ],
      "source": [
        "# Install PySpark (if running in Google Colab, uncomment the next line)\n",
        "# !pip install pyspark\n",
        "\n",
        "from pyspark.sql import SparkSession\n",
        "from pyspark.sql.functions import col, lower, split, explode, count, desc, avg\n",
        "\n",
        "# Initialize Spark Session\n",
        "spark = SparkSession.builder.appName(\"BeautyReviewsEDA\").getOrCreate()\n",
        "\n",
        "# Load JSONL file into a Spark DataFrame\n",
        "df = spark.read.json(\"All_Beauty.jsonl\")\n",
        "\n",
        "# Display schema and a few rows for inspection\n",
        "df.printSchema()\n",
        "df.show(5)\n",
        "\n",
        "# Clean the data: Remove null reviews and short reviews (less than 5 characters)\n",
        "df_filtered = df.filter((col(\"text\").isNotNull()) & (col(\"text\").rlike(\".{5,}\")))\n",
        "\n",
        "# Select only relevant columns\n",
        "df_filtered = df_filtered.select(\"asin\", \"rating\", \"text\", \"verified_purchase\", \"helpful_vote\")\n",
        "\n",
        "# WORD FREQUENCY ANALYSIS\n",
        "df_words = df_filtered.withColumn(\"word\", explode(split(lower(col(\"text\")), \"\\s+\")))\n",
        "word_counts = df_words.groupBy(\"word\").agg(count(\"*\").alias(\"count\"))\n",
        "word_counts.orderBy(desc(\"count\")).show(20)  # Show top 20 words\n",
        "\n",
        "# AVERAGE RATING PER PRODUCT (ASIN)\n",
        "df_avg_rating = df_filtered.groupBy(\"asin\").agg(avg(\"rating\").alias(\"avg_rating\"))\n",
        "df_avg_rating.orderBy(desc(\"avg_rating\")).show(10)  # Show top 10 highest-rated products\n",
        "\n",
        "# ANALYSIS OF VERIFIED VS. UNVERIFIED REVIEWS\n",
        "df_verified = df_filtered.groupBy(\"verified_purchase\").agg(count(\"*\").alias(\"review_count\"))\n",
        "df_verified.show()\n",
        "\n",
        "# MOST HELPFUL REVIEWS (SORTED BY HELPFUL VOTES)\n",
        "df_helpful = df_filtered.orderBy(desc(\"helpful_vote\"))\n",
        "df_helpful.show(10)  # Show top 10 most helpful reviews\n",
        "\n",
        "# EXPORT CLEANED DATA\n",
        "df_filtered.write.json(\"cleaned_reviews.json\")\n",
        "\n",
        "# Stop the Spark session\n",
        "spark.stop()\n"
      ]
    },
    {
      "cell_type": "code",
      "execution_count": 23,
      "metadata": {
        "colab": {
          "base_uri": "https://localhost:8080/",
          "height": 489
        },
        "id": "2-iwiCHTBsdk",
        "outputId": "e1cb75e8-a55f-4300-a58c-06b6666140a8"
      },
      "outputs": [
        {
          "name": "stdout",
          "output_type": "stream",
          "text": [
            "Model Accuracy: 0.83\n"
          ]
        },
        {
          "data": {
            "image/png": "[encoded data removed]",
            "text/plain": [
              "<Figure size 640x480 with 1 Axes>"
            ]
          },
          "metadata": {},
          "output_type": "display_data"
        }
      ],
      "source": [
        "from pyspark.sql import SparkSession\n",
        "from pyspark.sql.functions import col, lower, regexp_replace\n",
        "from pyspark.ml.feature import Tokenizer, StopWordsRemover, HashingTF, IDF, StringIndexer\n",
        "from pyspark.ml.classification import LogisticRegression\n",
        "from pyspark.ml.evaluation import MulticlassClassificationEvaluator\n",
        "import matplotlib.pyplot as plt\n",
        "\n",
        "# Step 1: Initialize Spark Session\n",
        "spark = SparkSession.builder.appName(\"SentimentAnalysis\").getOrCreate()\n",
        "\n",
        "# Step 2: Load the dataset\n",
        "df = spark.read.json(\"All_Beauty.jsonl\")\n",
        "\n",
        "# Step 3: Data Preprocessing\n",
        "## Convert rating into binary sentiment (1 = positive, 0 = negative)\n",
        "df = df.withColumn(\"sentiment\", (col(\"rating\") >= 4).cast(\"integer\"))\n",
        "\n",
        "## Select required columns and clean text\n",
        "df = df.select(\"text\", \"sentiment\").dropna()\n",
        "df = df.withColumn(\"text\", lower(col(\"text\")))  # Convert text to lowercase\n",
        "df = df.withColumn(\"text\", regexp_replace(col(\"text\"), \"[^a-zA-Z\\s]\", \"\"))  # Remove punctuation\n",
        "\n",
        "# Convert sentiment column to numeric using StringIndexer\n",
        "indexer = StringIndexer(inputCol=\"sentiment\", outputCol=\"label\")\n",
        "df = indexer.fit(df).transform(df)\n",
        "\n",
        "# Step 4: Feature Engineering\n",
        "## Tokenization\n",
        "tokenizer = Tokenizer(inputCol=\"text\", outputCol=\"words\")\n",
        "df = tokenizer.transform(df)\n",
        "\n",
        "## Remove stop words\n",
        "remover = StopWordsRemover(inputCol=\"words\", outputCol=\"filtered_words\")\n",
        "df = remover.transform(df)\n",
        "\n",
        "## Convert text to numerical features using TF-IDF\n",
        "hashingTF = HashingTF(inputCol=\"filtered_words\", outputCol=\"raw_features\", numFeatures=1000)\n",
        "df = hashingTF.transform(df)\n",
        "\n",
        "idf = IDF(inputCol=\"raw_features\", outputCol=\"features\")\n",
        "df = idf.fit(df).transform(df)\n",
        "\n",
        "# Step 5: Split Data into Training & Testing Sets\n",
        "train_data, test_data = df.randomSplit([0.8, 0.2], seed=42)\n",
        "\n",
        "# Step 6: Train the Logistic Regression Model\n",
        "lr = LogisticRegression(featuresCol=\"features\", labelCol=\"label\", maxIter=10)\n",
        "model = lr.fit(train_data)\n",
        "\n",
        "# Step 7: Evaluate Model Performance\n",
        "predictions = model.transform(test_data)\n",
        "\n",
        "evaluator = MulticlassClassificationEvaluator(labelCol=\"label\", metricName=\"accuracy\")\n",
        "accuracy = evaluator.evaluate(predictions)\n",
        "\n",
        "print(f\"Model Accuracy: {accuracy:.2f}\")\n",
        "\n",
        "# Step 8: Visualize Results\n",
        "sentiment_counts = predictions.groupBy(\"label\").count().collect()\n",
        "labels = [\"Negative\", \"Positive\"]\n",
        "counts = [row[\"count\"] for row in sentiment_counts]\n",
        "\n",
        "plt.bar(labels, counts, color=[\"red\", \"green\"])\n",
        "plt.xlabel(\"Sentiment\")\n",
        "plt.ylabel(\"Count\")\n",
        "plt.title(\"Sentiment Distribution in Reviews\")\n",
        "plt.show()\n",
        "\n",
        "# Step 9: Stop the Spark Session\n",
        "spark.stop()\n"
      ]
    }
  ],
  "metadata": {
    "colab": {
      "provenance": []
    },
    "kernelspec": {
      "display_name": "Python 3",
      "name": "python3"
    },
    "language_info": {
      "name": "python"
    }
  },
  "nbformat": 4,
  "nbformat_minor": 0
}
